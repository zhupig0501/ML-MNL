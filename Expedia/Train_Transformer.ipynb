{
 "cells": [
  {
   "cell_type": "code",
   "execution_count": 37,
   "metadata": {},
   "outputs": [],
   "source": [
    "import pandas as pd\n",
    "import numpy as np\n",
    "import Expedia_Transformer.Part_2_dataframe_preprocess as pre\n",
    "import Expedia_Transformer.true_model as mt\n",
    "import os\n",
    "os.environ[\"KMP_DUPLICATE_LIB_OK\"]=\"TRUE\""
   ]
  },
  {
   "cell_type": "markdown",
   "metadata": {},
   "source": [
    "# Use all data to train Transformer"
   ]
  },
  {
   "cell_type": "code",
   "execution_count": 38,
   "metadata": {},
   "outputs": [],
   "source": [
    "df = pd.read_csv(\"./Expedia_preprocess/df_OR_normal_process_with_nonpurchase_clean.csv\")"
   ]
  },
  {
   "cell_type": "code",
   "execution_count": 39,
   "metadata": {},
   "outputs": [],
   "source": [
    "weight_index = np.sum(df['booking_bool'])/(len(list(df['srch_id'].unique()))-np.sum(df['booking_bool']))\n",
    "if weight_index > 1:\n",
    "    pt_weight = [1,int(weight_index)]\n",
    "else:\n",
    "    pt_weight = [int(1/weight_index),1]"
   ]
  },
  {
   "cell_type": "code",
   "execution_count": 40,
   "metadata": {},
   "outputs": [
    {
     "name": "stdout",
     "output_type": "stream",
     "text": [
      "---------------- Epoch: 01 ----------------\n",
      "Epoch 0 loss 1.4487127588496167\n",
      "valid loss 1.36457\n",
      "---------------- Epoch: 02 ----------------\n",
      "Epoch 1 loss 1.3581021075225428\n",
      "valid loss 1.36507\n",
      "---------------- Epoch: 03 ----------------\n",
      "Epoch 2 loss 1.355908168220364\n",
      "valid loss 1.36419\n",
      "---------------- Epoch: 04 ----------------\n",
      "Epoch 3 loss 1.3569547268755935\n",
      "valid loss 1.36431\n",
      "---------------- Epoch: 05 ----------------\n",
      "Epoch 4 loss 1.356329837729949\n",
      "valid loss 1.37025\n",
      "---------------- Epoch: 06 ----------------\n",
      "Epoch 5 loss 1.357066922043618\n",
      "valid loss 1.36411\n",
      "---------------- Epoch: 07 ----------------\n",
      "Epoch 6 loss 1.3557421126280724\n",
      "valid loss 1.3656\n",
      "EarlyStopping counter: 1 out of 3\n",
      "---------------- Epoch: 08 ----------------\n",
      "Epoch 7 loss 1.3559739310760757\n",
      "valid loss 1.36477\n",
      "EarlyStopping counter: 2 out of 3\n",
      "---------------- Epoch: 09 ----------------\n",
      "Epoch 8 loss 1.3572163769217997\n",
      "valid loss 1.36427\n",
      "EarlyStopping counter: 3 out of 3\n",
      "Early stopping\n",
      "---------------- Epoch: 01 ----------------\n",
      "Epoch 0 loss 0.9505934920442582\n",
      "valid loss 0.933607, accuracy 0.124879\n",
      "---------------- Epoch: 02 ----------------\n",
      "Epoch 1 loss 0.9387788808215048\n",
      "valid loss 0.926323, accuracy 0.146336\n",
      "---------------- Epoch: 03 ----------------\n",
      "Epoch 2 loss 0.9334398391262025\n",
      "valid loss 0.919187, accuracy 0.1608\n",
      "---------------- Epoch: 04 ----------------\n",
      "Epoch 3 loss 0.9289123428949781\n",
      "valid loss 0.915818, accuracy 0.165863\n",
      "---------------- Epoch: 05 ----------------\n",
      "Epoch 4 loss 0.9253890907762998\n",
      "valid loss 0.913275, accuracy 0.167792\n",
      "---------------- Epoch: 06 ----------------\n",
      "Epoch 5 loss 0.9211496707400859\n",
      "valid loss 0.910471, accuracy 0.174542\n",
      "---------------- Epoch: 07 ----------------\n",
      "Epoch 6 loss 0.9189909410516914\n",
      "valid loss 0.908786, accuracy 0.177435\n",
      "---------------- Epoch: 08 ----------------\n",
      "Epoch 7 loss 0.9164228511744555\n",
      "valid loss 0.907839, accuracy 0.178881\n",
      "---------------- Epoch: 09 ----------------\n",
      "Epoch 8 loss 0.9144476944241909\n",
      "valid loss 0.906585, accuracy 0.182739\n",
      "---------------- Epoch: 10 ----------------\n",
      "Epoch 9 loss 0.912934991786663\n",
      "valid loss 0.908595, accuracy 0.18081\n",
      "EarlyStopping counter: 1 out of 3\n",
      "---------------- Epoch: 11 ----------------\n",
      "Epoch 10 loss 0.9119773712792684\n",
      "valid loss 0.905101, accuracy 0.184667\n",
      "---------------- Epoch: 12 ----------------\n",
      "Epoch 11 loss 0.9101104584604599\n",
      "valid loss 0.908312, accuracy 0.181774\n",
      "EarlyStopping counter: 1 out of 3\n",
      "---------------- Epoch: 13 ----------------\n",
      "Epoch 12 loss 0.9095018774655349\n",
      "valid loss 0.90514, accuracy 0.185391\n",
      "EarlyStopping counter: 2 out of 3\n",
      "---------------- Epoch: 14 ----------------\n",
      "Epoch 13 loss 0.9084459718371122\n",
      "valid loss 0.905365, accuracy 0.191176\n",
      "EarlyStopping counter: 3 out of 3\n",
      "Early stopping\n"
     ]
    }
   ],
   "source": [
    "mt.train_model(df,pt_weight = pt_weight,model_name = \"true_model\")"
   ]
  },
  {
   "cell_type": "code",
   "execution_count": 19,
   "metadata": {},
   "outputs": [],
   "source": [
    "df = pd.read_csv(\"./Expedia_preprocess/df_OR_normal_process_with_nonpurchase_clean.csv\")"
   ]
  },
  {
   "cell_type": "code",
   "execution_count": 21,
   "metadata": {},
   "outputs": [
    {
     "data": {
      "text/plain": [
       "41485"
      ]
     },
     "execution_count": 21,
     "metadata": {},
     "output_type": "execute_result"
    }
   ],
   "source": [
    "sum(df['booking_bool'])"
   ]
  },
  {
   "cell_type": "markdown",
   "metadata": {},
   "source": [
    "# Generate Data for True Model to calculate RMSE and top accuracy"
   ]
  },
  {
   "cell_type": "code",
   "execution_count": 22,
   "metadata": {},
   "outputs": [],
   "source": [
    "unique_srch_ids = df['srch_id'].unique()\n",
    "order_list_random = np.random.permutation(unique_srch_ids)\n",
    "train_list = order_list_random[:int(len(order_list_random)*0.9)]\n",
    "test_list = order_list_random[int(len(order_list_random)*0.9):]"
   ]
  },
  {
   "cell_type": "code",
   "execution_count": 23,
   "metadata": {},
   "outputs": [],
   "source": [
    "df_train = df[df['srch_id'].isin(train_list)]\n",
    "df_test = df[df['srch_id'].isin(test_list)]"
   ]
  },
  {
   "cell_type": "code",
   "execution_count": 24,
   "metadata": {},
   "outputs": [],
   "source": [
    "df_train = df_train.reset_index(drop=True)\n",
    "df_test = df_test.reset_index(drop=True)\n",
    "df_train.to_csv(\"./True_Model/df_train.csv\",index=False)\n",
    "df_test.to_csv(\"./True_Model/df_test.csv\",index=False)"
   ]
  },
  {
   "cell_type": "code",
   "execution_count": 4,
   "metadata": {},
   "outputs": [],
   "source": [
    "df_train = pd.read_csv(\"./True_Model/df_train.csv\")\n"
   ]
  },
  {
   "cell_type": "markdown",
   "metadata": {},
   "source": [
    "# Train Test Model"
   ]
  },
  {
   "cell_type": "code",
   "execution_count": 5,
   "metadata": {},
   "outputs": [
    {
     "name": "stdout",
     "output_type": "stream",
     "text": [
      "---------------- Epoch: 01 ----------------\n",
      "Epoch 0 loss 1.3138690426852893\n",
      "valid loss 1.23499\n",
      "---------------- Epoch: 02 ----------------\n",
      "Epoch 1 loss 1.220888506006641\n",
      "valid loss 1.23341\n",
      "---------------- Epoch: 03 ----------------\n",
      "Epoch 2 loss 1.2201944069978103\n",
      "valid loss 1.23381\n",
      "---------------- Epoch: 04 ----------------\n",
      "Epoch 3 loss 1.219359732075351\n",
      "valid loss 1.23222\n",
      "---------------- Epoch: 05 ----------------\n",
      "Epoch 4 loss 1.2194578747221863\n",
      "valid loss 1.23344\n",
      "---------------- Epoch: 06 ----------------\n",
      "Epoch 5 loss 1.2193737759177021\n",
      "valid loss 1.232\n",
      "---------------- Epoch: 07 ----------------\n",
      "Epoch 6 loss 1.2205373115366158\n",
      "valid loss 1.23776\n",
      "EarlyStopping counter: 1 out of 3\n",
      "---------------- Epoch: 08 ----------------\n",
      "Epoch 7 loss 1.2192777245543736\n",
      "valid loss 1.23456\n",
      "EarlyStopping counter: 2 out of 3\n",
      "---------------- Epoch: 09 ----------------\n",
      "Epoch 8 loss 1.2198740513936623\n",
      "valid loss 1.23459\n",
      "EarlyStopping counter: 3 out of 3\n",
      "Early stopping\n",
      "---------------- Epoch: 01 ----------------\n",
      "Epoch 0 loss 0.9507903052559585\n",
      "valid loss 0.933468, accuracy 0.122826\n",
      "---------------- Epoch: 02 ----------------\n",
      "Epoch 1 loss 0.9366686251177675\n",
      "valid loss 0.924512, accuracy 0.143698\n",
      "---------------- Epoch: 03 ----------------\n",
      "Epoch 2 loss 0.9310927864030312\n",
      "valid loss 0.921398, accuracy 0.15012\n",
      "---------------- Epoch: 04 ----------------\n",
      "Epoch 3 loss 0.9271255609510926\n",
      "valid loss 0.918864, accuracy 0.156543\n",
      "---------------- Epoch: 05 ----------------\n",
      "Epoch 4 loss 0.9240354433736468\n",
      "valid loss 0.916426, accuracy 0.161895\n",
      "---------------- Epoch: 06 ----------------\n",
      "Epoch 5 loss 0.9210631790452\n",
      "valid loss 0.915649, accuracy 0.168049\n",
      "---------------- Epoch: 07 ----------------\n",
      "Epoch 6 loss 0.9184008632708646\n",
      "valid loss 0.917769, accuracy 0.167782\n",
      "EarlyStopping counter: 1 out of 3\n",
      "---------------- Epoch: 08 ----------------\n",
      "Epoch 7 loss 0.9160971030145415\n",
      "valid loss 0.91413, accuracy 0.167514\n",
      "---------------- Epoch: 09 ----------------\n",
      "Epoch 8 loss 0.913839434231494\n",
      "valid loss 0.913382, accuracy 0.172331\n",
      "---------------- Epoch: 10 ----------------\n",
      "Epoch 9 loss 0.9116706304682209\n",
      "valid loss 0.91411, accuracy 0.175274\n",
      "EarlyStopping counter: 1 out of 3\n",
      "---------------- Epoch: 11 ----------------\n",
      "Epoch 10 loss 0.9103845705133514\n",
      "valid loss 0.913145, accuracy 0.173669\n",
      "---------------- Epoch: 12 ----------------\n",
      "Epoch 11 loss 0.9098156864017509\n",
      "valid loss 0.914385, accuracy 0.179823\n",
      "EarlyStopping counter: 1 out of 3\n",
      "---------------- Epoch: 13 ----------------\n",
      "Epoch 12 loss 0.9090107605294809\n",
      "valid loss 0.912408, accuracy 0.181429\n",
      "---------------- Epoch: 14 ----------------\n",
      "Epoch 13 loss 0.9076076030699308\n",
      "valid loss 0.912191, accuracy 0.182232\n",
      "---------------- Epoch: 15 ----------------\n",
      "Epoch 14 loss 0.9074097133848501\n",
      "valid loss 0.912167, accuracy 0.181697\n",
      "---------------- Epoch: 16 ----------------\n",
      "Epoch 15 loss 0.9066148142648472\n",
      "valid loss 0.912889, accuracy 0.181964\n",
      "EarlyStopping counter: 1 out of 3\n",
      "---------------- Epoch: 17 ----------------\n",
      "Epoch 16 loss 0.9057401223737941\n",
      "valid loss 0.911791, accuracy 0.181697\n",
      "---------------- Epoch: 18 ----------------\n",
      "Epoch 17 loss 0.9056009299363925\n",
      "valid loss 0.914158, accuracy 0.17688\n",
      "EarlyStopping counter: 1 out of 3\n",
      "---------------- Epoch: 19 ----------------\n",
      "Epoch 18 loss 0.9051978916446067\n",
      "valid loss 0.912291, accuracy 0.180894\n",
      "EarlyStopping counter: 2 out of 3\n",
      "---------------- Epoch: 20 ----------------\n",
      "Epoch 19 loss 0.904733955465458\n",
      "valid loss 0.914813, accuracy 0.181964\n",
      "EarlyStopping counter: 3 out of 3\n",
      "Early stopping\n"
     ]
    }
   ],
   "source": [
    "mt.train_model(df_train,pt_weight = pt_weight,model_name = \"test_model\")"
   ]
  },
  {
   "cell_type": "code",
   "execution_count": 24,
   "metadata": {},
   "outputs": [],
   "source": [
    "df_test = pd.read_csv(\"./True_Model/df_test.csv\")"
   ]
  },
  {
   "cell_type": "code",
   "execution_count": 25,
   "metadata": {},
   "outputs": [
    {
     "data": {
      "text/plain": [
       "4107"
      ]
     },
     "execution_count": 25,
     "metadata": {},
     "output_type": "execute_result"
    }
   ],
   "source": [
    "sum(df_test['booking_bool'])"
   ]
  },
  {
   "cell_type": "code",
   "execution_count": 26,
   "metadata": {},
   "outputs": [],
   "source": [
    "# final_result = mt.predict(df_test, max_num=38,model_name = \"test_model\", true_model_flag=True)\n",
    "final_result = mt.predict(df_test, max_num=38,model_name = \"test_model\")"
   ]
  },
  {
   "cell_type": "code",
   "execution_count": 27,
   "metadata": {},
   "outputs": [
    {
     "data": {
      "text/plain": [
       "array([0.2715014 , 0.28786978, 0.02445496, 0.11775255, 0.12682259,\n",
       "       0.0029957 , 0.        , 0.        , 0.        , 0.        ,\n",
       "       0.        , 0.        , 0.        , 0.        , 0.        ,\n",
       "       0.        , 0.        , 0.        ], dtype=float32)"
      ]
     },
     "execution_count": 27,
     "metadata": {},
     "output_type": "execute_result"
    }
   ],
   "source": [
    "final_result[0, 0:18].squeeze().detach().numpy()"
   ]
  },
  {
   "cell_type": "code",
   "execution_count": 32,
   "metadata": {},
   "outputs": [],
   "source": [
    "df_test = pd.read_csv(\"./True_Model/df_test.csv\")"
   ]
  },
  {
   "cell_type": "code",
   "execution_count": 34,
   "metadata": {},
   "outputs": [],
   "source": [
    "count = 0\n",
    "number_count = 0\n",
    "buy_count =0\n",
    "top_1_acc = 0\n",
    "top_3_acc = 0\n",
    "total_RMSE = []\n",
    "for group_id, group_df in df_test.groupby('srch_id'):\n",
    "    temp_list = np.array(group_df['booking_bool'])\n",
    "    predicted = final_result[count, 0:(len(temp_list))].squeeze().detach().numpy()\n",
    "#     print(temp_list.argmax())\n",
    "#     print(predicted.argmax())\n",
    "#     print(sum(temp_list))\n",
    "    total_RMSE.append(np.sum((temp_list - predicted)**2) + (1-np.sum(temp_list)-(1-np.sum(predicted)) )**2)\n",
    "    if sum(temp_list)==1:\n",
    "        top_1_acc += (temp_list.argmax()== predicted.argmax())\n",
    "        for turn in range(3):\n",
    "            top_3_acc += (temp_list.argmax()== predicted.argmax())\n",
    "            predicted[predicted.argmax()] = 0\n",
    "        buy_count += 1\n",
    "    number_count += len(temp_list)\n",
    "    count += 1"
   ]
  },
  {
   "cell_type": "code",
   "execution_count": 35,
   "metadata": {},
   "outputs": [
    {
     "data": {
      "text/plain": [
       "0.18741832354474694"
      ]
     },
     "execution_count": 35,
     "metadata": {},
     "output_type": "execute_result"
    }
   ],
   "source": [
    "np.sqrt(sum(total_RMSE)/(number_count+count))"
   ]
  },
  {
   "cell_type": "code",
   "execution_count": 36,
   "metadata": {
    "scrolled": true
   },
   "outputs": [
    {
     "data": {
      "text/plain": [
       "(0.18431945458972487, 0.40589237886535184)"
      ]
     },
     "execution_count": 36,
     "metadata": {},
     "output_type": "execute_result"
    }
   ],
   "source": [
    "top_1_acc/buy_count, top_3_acc/buy_count"
   ]
  },
  {
   "cell_type": "code",
   "execution_count": null,
   "metadata": {},
   "outputs": [],
   "source": []
  }
 ],
 "metadata": {
  "kernelspec": {
   "display_name": "Python 3",
   "language": "python",
   "name": "python3"
  },
  "language_info": {
   "codemirror_mode": {
    "name": "ipython",
    "version": 3
   },
   "file_extension": ".py",
   "mimetype": "text/x-python",
   "name": "python",
   "nbconvert_exporter": "python",
   "pygments_lexer": "ipython3",
   "version": "3.8.5"
  }
 },
 "nbformat": 4,
 "nbformat_minor": 4
}
